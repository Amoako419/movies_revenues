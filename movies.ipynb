{
 "cells": [
  {
   "cell_type": "code",
   "execution_count": 1,
   "metadata": {},
   "outputs": [],
   "source": [
    "import pandas as pd\n",
    "import numpy as np\n",
    "import sqlite3 as sql"
   ]
  },
  {
   "cell_type": "code",
   "execution_count": 2,
   "metadata": {},
   "outputs": [],
   "source": [
    "database = \"movies.sqlite\"\n",
    "connection = sql.connect(database)"
   ]
  },
  {
   "cell_type": "code",
   "execution_count": 5,
   "metadata": {},
   "outputs": [],
   "source": [
    "query = '''select m.id, d.name, m.original_title, m.budget, m.popularity, m.revenue, m.vote_average, m.vote_count from movies m join directors d on m.uid = d.uid;'''"
   ]
  },
  {
   "cell_type": "code",
   "execution_count": 6,
   "metadata": {},
   "outputs": [
    {
     "data": {
      "text/html": [
       "<div>\n",
       "<style scoped>\n",
       "    .dataframe tbody tr th:only-of-type {\n",
       "        vertical-align: middle;\n",
       "    }\n",
       "\n",
       "    .dataframe tbody tr th {\n",
       "        vertical-align: top;\n",
       "    }\n",
       "\n",
       "    .dataframe thead th {\n",
       "        text-align: right;\n",
       "    }\n",
       "</style>\n",
       "<table border=\"1\" class=\"dataframe\">\n",
       "  <thead>\n",
       "    <tr style=\"text-align: right;\">\n",
       "      <th></th>\n",
       "      <th>name</th>\n",
       "      <th>original_title</th>\n",
       "      <th>budget</th>\n",
       "      <th>popularity</th>\n",
       "      <th>revenue</th>\n",
       "      <th>vote_average</th>\n",
       "      <th>vote_count</th>\n",
       "    </tr>\n",
       "    <tr>\n",
       "      <th>id</th>\n",
       "      <th></th>\n",
       "      <th></th>\n",
       "      <th></th>\n",
       "      <th></th>\n",
       "      <th></th>\n",
       "      <th></th>\n",
       "      <th></th>\n",
       "    </tr>\n",
       "  </thead>\n",
       "  <tbody>\n",
       "    <tr>\n",
       "      <th>43602</th>\n",
       "      <td>Wally Pfister</td>\n",
       "      <td>Spider-Man 3</td>\n",
       "      <td>258000000</td>\n",
       "      <td>115</td>\n",
       "      <td>890871626</td>\n",
       "      <td>5.9</td>\n",
       "      <td>3576</td>\n",
       "    </tr>\n",
       "    <tr>\n",
       "      <th>43655</th>\n",
       "      <td>Barry Sonnenfeld</td>\n",
       "      <td>Rush Hour 3</td>\n",
       "      <td>140000000</td>\n",
       "      <td>22</td>\n",
       "      <td>258022233</td>\n",
       "      <td>6.1</td>\n",
       "      <td>783</td>\n",
       "    </tr>\n",
       "    <tr>\n",
       "      <th>43665</th>\n",
       "      <td>Steven E. de Souza</td>\n",
       "      <td>Iron Man</td>\n",
       "      <td>140000000</td>\n",
       "      <td>120</td>\n",
       "      <td>585174222</td>\n",
       "      <td>7.4</td>\n",
       "      <td>8776</td>\n",
       "    </tr>\n",
       "    <tr>\n",
       "      <th>43736</th>\n",
       "      <td>Guy Ritchie</td>\n",
       "      <td>Mission: Impossible III</td>\n",
       "      <td>150000000</td>\n",
       "      <td>63</td>\n",
       "      <td>397850012</td>\n",
       "      <td>6.5</td>\n",
       "      <td>2028</td>\n",
       "    </tr>\n",
       "    <tr>\n",
       "      <th>43747</th>\n",
       "      <td>Hayao Miyazaki</td>\n",
       "      <td>Men in Black II</td>\n",
       "      <td>140000000</td>\n",
       "      <td>91</td>\n",
       "      <td>441818803</td>\n",
       "      <td>6.0</td>\n",
       "      <td>3114</td>\n",
       "    </tr>\n",
       "  </tbody>\n",
       "</table>\n",
       "</div>"
      ],
      "text/plain": [
       "                     name           original_title     budget  popularity  \\\n",
       "id                                                                          \n",
       "43602       Wally Pfister             Spider-Man 3  258000000         115   \n",
       "43655    Barry Sonnenfeld              Rush Hour 3  140000000          22   \n",
       "43665  Steven E. de Souza                 Iron Man  140000000         120   \n",
       "43736         Guy Ritchie  Mission: Impossible III  150000000          63   \n",
       "43747      Hayao Miyazaki          Men in Black II  140000000          91   \n",
       "\n",
       "         revenue  vote_average  vote_count  \n",
       "id                                          \n",
       "43602  890871626           5.9        3576  \n",
       "43655  258022233           6.1         783  \n",
       "43665  585174222           7.4        8776  \n",
       "43736  397850012           6.5        2028  \n",
       "43747  441818803           6.0        3114  "
      ]
     },
     "execution_count": 6,
     "metadata": {},
     "output_type": "execute_result"
    }
   ],
   "source": [
    "df = pd.read_sql(query,connection,index_col='id')\n",
    "df.head()"
   ]
  }
 ],
 "metadata": {
  "kernelspec": {
   "display_name": "base",
   "language": "python",
   "name": "python3"
  },
  "language_info": {
   "codemirror_mode": {
    "name": "ipython",
    "version": 3
   },
   "file_extension": ".py",
   "mimetype": "text/x-python",
   "name": "python",
   "nbconvert_exporter": "python",
   "pygments_lexer": "ipython3",
   "version": "3.11.7"
  }
 },
 "nbformat": 4,
 "nbformat_minor": 4
}
